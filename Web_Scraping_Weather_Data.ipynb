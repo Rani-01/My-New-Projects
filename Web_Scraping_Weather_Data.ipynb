{
 "cells": [
  {
   "cell_type": "code",
   "execution_count": 2,
   "id": "629c8b0f",
   "metadata": {},
   "outputs": [],
   "source": [
    "from requests_html import HTMLSession"
   ]
  },
  {
   "cell_type": "code",
   "execution_count": 3,
   "id": "b02e0db3",
   "metadata": {},
   "outputs": [],
   "source": [
    "s=HTMLSession()\n",
    "query='hyderabad'\n",
    "url =f'https://www.google.co.in/search?q=weather+{query}'"
   ]
  },
  {
   "cell_type": "code",
   "execution_count": 7,
   "id": "1c382ebb",
   "metadata": {},
   "outputs": [],
   "source": [
    "r=s.get(url,headers={'User-Agent':'Mozilla/5.0 (Windows NT 10.0; Win64; x64) AppleWebKit/537.36 (KHTML, like Gecko) Chrome/114.0.0.0 Safari/537.36'})\n",
    "temp= r.html.find('span#wob_tm', first=True).text"
   ]
  },
  {
   "cell_type": "code",
   "execution_count": 10,
   "id": "33040862",
   "metadata": {},
   "outputs": [],
   "source": [
    "unit = r.html.find('div.vk_bk.wob-unit span.wob_t', first=True).text"
   ]
  },
  {
   "cell_type": "code",
   "execution_count": 12,
   "id": "63e23b1e",
   "metadata": {},
   "outputs": [],
   "source": [
    "desc = r.html.find('div.wob_dcp', first=True).find('span#wob_dc', first=True).text"
   ]
  },
  {
   "cell_type": "code",
   "execution_count": 13,
   "id": "6bca9bce",
   "metadata": {},
   "outputs": [
    {
     "name": "stdout",
     "output_type": "stream",
     "text": [
      "hyderabad 26 °C Light Rain Showers\n"
     ]
    }
   ],
   "source": [
    "print(query, temp, unit, desc)"
   ]
  },
  {
   "cell_type": "code",
   "execution_count": null,
   "id": "3feb69f8",
   "metadata": {},
   "outputs": [],
   "source": []
  }
 ],
 "metadata": {
  "kernelspec": {
   "display_name": "Python 3 (ipykernel)",
   "language": "python",
   "name": "python3"
  },
  "language_info": {
   "codemirror_mode": {
    "name": "ipython",
    "version": 3
   },
   "file_extension": ".py",
   "mimetype": "text/x-python",
   "name": "python",
   "nbconvert_exporter": "python",
   "pygments_lexer": "ipython3",
   "version": "3.9.13"
  }
 },
 "nbformat": 4,
 "nbformat_minor": 5
}
